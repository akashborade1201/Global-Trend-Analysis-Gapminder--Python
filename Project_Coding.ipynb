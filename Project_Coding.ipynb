{
  "cells": [
    {
      "cell_type": "markdown",
      "id": "ed354cf7",
      "metadata": {
        "id": "ed354cf7"
      },
      "source": [
        "# Global Trend Analysis - Gapminder"
      ]
    },
    {
      "cell_type": "markdown",
      "id": "bc5b2aa4",
      "metadata": {
        "id": "bc5b2aa4"
      },
      "source": [
        "Importing all libraries"
      ]
    },
    {
      "cell_type": "code",
      "execution_count": null,
      "id": "e2d4b1d7",
      "metadata": {
        "id": "e2d4b1d7"
      },
      "outputs": [],
      "source": [
        "import pandas as pd\n",
        "import numpy as np\n",
        "import matplotlib.pyplot as plt\n",
        "import seaborn as sns"
      ]
    },
    {
      "cell_type": "markdown",
      "id": "305c75bf",
      "metadata": {
        "id": "305c75bf"
      },
      "source": [
        "Q1.\tLoad the dataset and display the first few rows. How many countries does the dataset have?\n",
        "- Data is having 142 nos countries in it"
      ]
    },
    {
      "cell_type": "code",
      "execution_count": null,
      "id": "8aafc980",
      "metadata": {
        "id": "8aafc980"
      },
      "outputs": [],
      "source": [
        "df= pd.read_csv(r'E:\\AKASH\\Newton School DS 03.08.2023\\Lectures\\Python\\Project- EDA\\EDA1 Project\\gapminder_full.csv')"
      ]
    },
    {
      "cell_type": "code",
      "execution_count": null,
      "id": "2e96710c",
      "metadata": {
        "id": "2e96710c",
        "outputId": "4a95cf9b-6e45-4485-eb7f-3186d7593f99"
      },
      "outputs": [
        {
          "data": {
            "text/html": [
              "<div>\n",
              "<style scoped>\n",
              "    .dataframe tbody tr th:only-of-type {\n",
              "        vertical-align: middle;\n",
              "    }\n",
              "\n",
              "    .dataframe tbody tr th {\n",
              "        vertical-align: top;\n",
              "    }\n",
              "\n",
              "    .dataframe thead th {\n",
              "        text-align: right;\n",
              "    }\n",
              "</style>\n",
              "<table border=\"1\" class=\"dataframe\">\n",
              "  <thead>\n",
              "    <tr style=\"text-align: right;\">\n",
              "      <th></th>\n",
              "      <th>country</th>\n",
              "      <th>year</th>\n",
              "      <th>population</th>\n",
              "      <th>continent</th>\n",
              "      <th>life_exp</th>\n",
              "      <th>gdp_cap</th>\n",
              "    </tr>\n",
              "  </thead>\n",
              "  <tbody>\n",
              "    <tr>\n",
              "      <th>0</th>\n",
              "      <td>Afghanistan</td>\n",
              "      <td>1952</td>\n",
              "      <td>8425333</td>\n",
              "      <td>Asia</td>\n",
              "      <td>28.801</td>\n",
              "      <td>779.445314</td>\n",
              "    </tr>\n",
              "    <tr>\n",
              "      <th>1</th>\n",
              "      <td>Afghanistan</td>\n",
              "      <td>1957</td>\n",
              "      <td>9240934</td>\n",
              "      <td>Asia</td>\n",
              "      <td>30.332</td>\n",
              "      <td>820.853030</td>\n",
              "    </tr>\n",
              "    <tr>\n",
              "      <th>2</th>\n",
              "      <td>Afghanistan</td>\n",
              "      <td>1962</td>\n",
              "      <td>10267083</td>\n",
              "      <td>Asia</td>\n",
              "      <td>31.997</td>\n",
              "      <td>853.100710</td>\n",
              "    </tr>\n",
              "    <tr>\n",
              "      <th>3</th>\n",
              "      <td>Afghanistan</td>\n",
              "      <td>1967</td>\n",
              "      <td>11537966</td>\n",
              "      <td>Asia</td>\n",
              "      <td>34.020</td>\n",
              "      <td>836.197138</td>\n",
              "    </tr>\n",
              "    <tr>\n",
              "      <th>4</th>\n",
              "      <td>Afghanistan</td>\n",
              "      <td>1972</td>\n",
              "      <td>13079460</td>\n",
              "      <td>Asia</td>\n",
              "      <td>36.088</td>\n",
              "      <td>739.981106</td>\n",
              "    </tr>\n",
              "  </tbody>\n",
              "</table>\n",
              "</div>"
            ],
            "text/plain": [
              "       country  year  population continent  life_exp     gdp_cap\n",
              "0  Afghanistan  1952     8425333      Asia    28.801  779.445314\n",
              "1  Afghanistan  1957     9240934      Asia    30.332  820.853030\n",
              "2  Afghanistan  1962    10267083      Asia    31.997  853.100710\n",
              "3  Afghanistan  1967    11537966      Asia    34.020  836.197138\n",
              "4  Afghanistan  1972    13079460      Asia    36.088  739.981106"
            ]
          },
          "execution_count": 3,
          "metadata": {},
          "output_type": "execute_result"
        }
      ],
      "source": [
        "df.head()"
      ]
    },
    {
      "cell_type": "code",
      "execution_count": null,
      "id": "7bf0044f",
      "metadata": {
        "id": "7bf0044f",
        "outputId": "b1b20ed9-877a-4a52-f0ab-03a514cd7297"
      },
      "outputs": [
        {
          "name": "stdout",
          "output_type": "stream",
          "text": [
            "Total no of countries in dataset are: 142\n"
          ]
        }
      ],
      "source": [
        "total_countries= df['country'].nunique()\n",
        "print('Total no of countries in dataset are:', total_countries)"
      ]
    },
    {
      "cell_type": "code",
      "execution_count": null,
      "id": "8238f7ce",
      "metadata": {
        "id": "8238f7ce",
        "outputId": "0c9c73dd-95ac-40b0-fcfc-38457776fde8"
      },
      "outputs": [
        {
          "data": {
            "text/plain": [
              "(1704, 8)"
            ]
          },
          "execution_count": 35,
          "metadata": {},
          "output_type": "execute_result"
        }
      ],
      "source": [
        "df.shape"
      ]
    },
    {
      "cell_type": "code",
      "execution_count": null,
      "id": "aa8531e3",
      "metadata": {
        "id": "aa8531e3",
        "outputId": "898b2231-7396-4350-d895-f3cdbd96d89c"
      },
      "outputs": [
        {
          "name": "stdout",
          "output_type": "stream",
          "text": [
            "<class 'pandas.core.frame.DataFrame'>\n",
            "RangeIndex: 1704 entries, 0 to 1703\n",
            "Data columns (total 6 columns):\n",
            " #   Column      Non-Null Count  Dtype  \n",
            "---  ------      --------------  -----  \n",
            " 0   country     1704 non-null   object \n",
            " 1   year        1704 non-null   int64  \n",
            " 2   population  1704 non-null   int64  \n",
            " 3   continent   1704 non-null   object \n",
            " 4   life_exp    1704 non-null   float64\n",
            " 5   gdp_cap     1704 non-null   float64\n",
            "dtypes: float64(2), int64(2), object(2)\n",
            "memory usage: 80.0+ KB\n"
          ]
        }
      ],
      "source": [
        "df.info()"
      ]
    },
    {
      "cell_type": "code",
      "execution_count": null,
      "id": "3dc3263b",
      "metadata": {
        "id": "3dc3263b"
      },
      "outputs": [],
      "source": [
        "# as year column format is int64, we will convert it to datetime\n",
        "df['year'] = pd.to_datetime(df['year'])"
      ]
    },
    {
      "cell_type": "code",
      "execution_count": null,
      "id": "94923bde",
      "metadata": {
        "id": "94923bde",
        "outputId": "5131cf18-1ce9-4137-8cb7-8c6a6dd31a9c"
      },
      "outputs": [
        {
          "name": "stdout",
          "output_type": "stream",
          "text": [
            "<class 'pandas.core.frame.DataFrame'>\n",
            "RangeIndex: 1704 entries, 0 to 1703\n",
            "Data columns (total 6 columns):\n",
            " #   Column      Non-Null Count  Dtype         \n",
            "---  ------      --------------  -----         \n",
            " 0   country     1704 non-null   object        \n",
            " 1   year        1704 non-null   datetime64[ns]\n",
            " 2   population  1704 non-null   int64         \n",
            " 3   continent   1704 non-null   object        \n",
            " 4   life_exp    1704 non-null   float64       \n",
            " 5   gdp_cap     1704 non-null   float64       \n",
            "dtypes: datetime64[ns](1), float64(2), int64(1), object(2)\n",
            "memory usage: 80.0+ KB\n"
          ]
        }
      ],
      "source": [
        "df.info()"
      ]
    },
    {
      "cell_type": "markdown",
      "id": "34f84fc0",
      "metadata": {
        "id": "34f84fc0"
      },
      "source": [
        "# Dataset : Gapminder"
      ]
    },
    {
      "cell_type": "markdown",
      "id": "e0359171",
      "metadata": {
        "id": "e0359171"
      },
      "source": [
        "# Description:\n",
        "This dataset contains statistical information about various countries, including population, life expectancy, GDP per capita, and continent.\n",
        "\n"
      ]
    },
    {
      "cell_type": "markdown",
      "id": "f1991aab",
      "metadata": {
        "id": "f1991aab"
      },
      "source": [
        "### Columns:\n",
        "\n",
        "#### 1.country: Name of the country.  \n",
        "        Data Type: String  \n",
        "        Range/Format: Text  \n",
        "        Additional Notes: Name of the country.\n",
        "#### 2.year: Year of the data record.  \n",
        "        Data Type: Datetime  \n",
        "        Range/Format: YYYY (e.g., 1952)  \n",
        "        Additional Notes: Year of the data record.  \n",
        "#### 3.population: Population of the country for the given year.  \n",
        "        Data Type: Integer  \n",
        "        Range/Format: Positive integer  \n",
        "        Additional Notes: Total population of the country for the given year.\n",
        "#### 4.continent: Continent where the country is located.  \n",
        "        Data Type: String  \n",
        "        Range/Format: Text  \n",
        "        Additional Notes: Continent where the country is located.       \n",
        "#### 5.life_exp: Life expectancy of the country's population for the given year.  \n",
        "        Data Type: Float  \n",
        "        Range/Format: Decimal number  \n",
        "        Additional Notes: Life expectancy of the country's population for the given year.        \n",
        "#### 6.gdp_cap: GDP per capita of the country for the given year.  \n",
        "        Data Type: Float  \n",
        "        Range/Format: Decimal number  \n",
        "        Additional Notes: GDP per capita of the country for the given year.  \n",
        "\n"
      ]
    },
    {
      "cell_type": "markdown",
      "id": "58a7ae23",
      "metadata": {
        "id": "58a7ae23"
      },
      "source": [
        "Q2. Create a pivot table that shows the average life expectancy for each continent and year. Index by 'continent', use 'year' as columns, and 'life_exp' as values."
      ]
    },
    {
      "cell_type": "code",
      "execution_count": null,
      "id": "f3fb0014",
      "metadata": {
        "id": "f3fb0014",
        "outputId": "99b08710-9ae7-487b-8d65-16dae3eb9b13"
      },
      "outputs": [
        {
          "name": "stdout",
          "output_type": "stream",
          "text": [
            "year            1952       1957       1962       1967       1972       1977  \\\n",
            "continent                                                                     \n",
            "Africa     39.135500  41.266346  43.319442  45.334538  47.450942  49.580423   \n",
            "Americas   53.279840  55.960280  58.398760  60.410920  62.394920  64.391560   \n",
            "Asia       46.314394  49.318544  51.563223  54.663640  57.319269  59.610556   \n",
            "Europe     64.408500  66.703067  68.539233  69.737600  70.775033  71.937767   \n",
            "Oceania    69.255000  70.295000  71.085000  71.310000  71.910000  72.855000   \n",
            "\n",
            "year            1982       1987       1992       1997       2002       2007  \n",
            "continent                                                                    \n",
            "Africa     51.592865  53.344788  53.629577  53.598269  53.325231  54.806038  \n",
            "Americas   66.228840  68.090720  69.568360  71.150480  72.422040  73.608120  \n",
            "Asia       62.617939  64.851182  66.537212  68.020515  69.233879  70.728485  \n",
            "Europe     72.806400  73.642167  74.440100  75.505167  76.700600  77.648600  \n",
            "Oceania    74.290000  75.320000  76.945000  78.190000  79.740000  80.719500  \n"
          ]
        }
      ],
      "source": [
        "average_life_expectancy= df.pivot_table(index= 'continent', columns= 'year', values= 'life_exp', aggfunc= 'mean')\n",
        "print(average_life_expectancy)"
      ]
    },
    {
      "cell_type": "markdown",
      "id": "f53e97f0",
      "metadata": {
        "id": "f53e97f0"
      },
      "source": [
        "Q.3.Which countries had a GDP per capita higher than the 75th percentile in 2007?"
      ]
    },
    {
      "cell_type": "code",
      "execution_count": null,
      "id": "5396990d",
      "metadata": {
        "id": "5396990d",
        "outputId": "e83a7273-4483-4c25-c3b2-87b096cd8804"
      },
      "outputs": [
        {
          "name": "stdout",
          "output_type": "stream",
          "text": [
            "71             Australia\n",
            "83               Austria\n",
            "95               Bahrain\n",
            "119              Belgium\n",
            "251               Canada\n",
            "407       Czech Republic\n",
            "419              Denmark\n",
            "527              Finland\n",
            "539               France\n",
            "575              Germany\n",
            "599               Greece\n",
            "671     Hong Kong, China\n",
            "683              Hungary\n",
            "695              Iceland\n",
            "755              Ireland\n",
            "767               Israel\n",
            "779                Italy\n",
            "803                Japan\n",
            "851          Korea, Rep.\n",
            "863               Kuwait\n",
            "1091         Netherlands\n",
            "1103         New Zealand\n",
            "1151              Norway\n",
            "1163                Oman\n",
            "1247            Portugal\n",
            "1259         Puerto Rico\n",
            "1319        Saudi Arabia\n",
            "1367           Singapore\n",
            "1379     Slovak Republic\n",
            "1391            Slovenia\n",
            "1427               Spain\n",
            "1475              Sweden\n",
            "1487         Switzerland\n",
            "1511              Taiwan\n",
            "1607      United Kingdom\n",
            "1619       United States\n",
            "Name: country, dtype: object\n"
          ]
        }
      ],
      "source": [
        "gdp_75th_percentile = df[df['year'] == 2007]['gdp_cap'].quantile(0.75)\n",
        "high_gdp_countries = df[(df['year'] == 2007) & (df['gdp_cap'] > gdp_75th_percentile)]['country']\n",
        "print(high_gdp_countries)"
      ]
    },
    {
      "cell_type": "markdown",
      "id": "e5a3b6f5",
      "metadata": {
        "id": "e5a3b6f5"
      },
      "source": [
        "Q.4.Categorize the 'life_exp' into 4 equally ranged bins from 'Low' to 'Very High'. Use cut to create these categorical life expectancy groups and add them as a new column 'Life_Exp_Range'."
      ]
    },
    {
      "cell_type": "code",
      "execution_count": null,
      "id": "5e7d5c73",
      "metadata": {
        "id": "5e7d5c73",
        "outputId": "6395636c-4530-4a5f-b25f-d821d0e1b04a"
      },
      "outputs": [
        {
          "data": {
            "text/html": [
              "<div>\n",
              "<style scoped>\n",
              "    .dataframe tbody tr th:only-of-type {\n",
              "        vertical-align: middle;\n",
              "    }\n",
              "\n",
              "    .dataframe tbody tr th {\n",
              "        vertical-align: top;\n",
              "    }\n",
              "\n",
              "    .dataframe thead th {\n",
              "        text-align: right;\n",
              "    }\n",
              "</style>\n",
              "<table border=\"1\" class=\"dataframe\">\n",
              "  <thead>\n",
              "    <tr style=\"text-align: right;\">\n",
              "      <th></th>\n",
              "      <th>country</th>\n",
              "      <th>year</th>\n",
              "      <th>population</th>\n",
              "      <th>continent</th>\n",
              "      <th>life_exp</th>\n",
              "      <th>gdp_cap</th>\n",
              "      <th>Life_Exp_Range</th>\n",
              "    </tr>\n",
              "  </thead>\n",
              "  <tbody>\n",
              "    <tr>\n",
              "      <th>135</th>\n",
              "      <td>Bolivia</td>\n",
              "      <td>1967</td>\n",
              "      <td>4040665</td>\n",
              "      <td>Americas</td>\n",
              "      <td>45.032</td>\n",
              "      <td>2586.886053</td>\n",
              "      <td>Medium</td>\n",
              "    </tr>\n",
              "    <tr>\n",
              "      <th>812</th>\n",
              "      <td>Jordan</td>\n",
              "      <td>1992</td>\n",
              "      <td>3867409</td>\n",
              "      <td>Asia</td>\n",
              "      <td>68.015</td>\n",
              "      <td>3431.593647</td>\n",
              "      <td>Very High</td>\n",
              "    </tr>\n",
              "    <tr>\n",
              "      <th>1338</th>\n",
              "      <td>Serbia</td>\n",
              "      <td>1982</td>\n",
              "      <td>9032824</td>\n",
              "      <td>Europe</td>\n",
              "      <td>70.162</td>\n",
              "      <td>15181.092700</td>\n",
              "      <td>Very High</td>\n",
              "    </tr>\n",
              "    <tr>\n",
              "      <th>504</th>\n",
              "      <td>Ethiopia</td>\n",
              "      <td>1952</td>\n",
              "      <td>20860941</td>\n",
              "      <td>Africa</td>\n",
              "      <td>34.078</td>\n",
              "      <td>362.146280</td>\n",
              "      <td>Low</td>\n",
              "    </tr>\n",
              "    <tr>\n",
              "      <th>467</th>\n",
              "      <td>Egypt</td>\n",
              "      <td>2007</td>\n",
              "      <td>80264543</td>\n",
              "      <td>Africa</td>\n",
              "      <td>71.338</td>\n",
              "      <td>5581.180998</td>\n",
              "      <td>Very High</td>\n",
              "    </tr>\n",
              "    <tr>\n",
              "      <th>349</th>\n",
              "      <td>Costa Rica</td>\n",
              "      <td>1957</td>\n",
              "      <td>1112300</td>\n",
              "      <td>Americas</td>\n",
              "      <td>60.026</td>\n",
              "      <td>2990.010802</td>\n",
              "      <td>High</td>\n",
              "    </tr>\n",
              "    <tr>\n",
              "      <th>325</th>\n",
              "      <td>Congo, Dem. Rep.</td>\n",
              "      <td>1957</td>\n",
              "      <td>15577932</td>\n",
              "      <td>Africa</td>\n",
              "      <td>40.652</td>\n",
              "      <td>905.860230</td>\n",
              "      <td>Medium</td>\n",
              "    </tr>\n",
              "    <tr>\n",
              "      <th>1100</th>\n",
              "      <td>New Zealand</td>\n",
              "      <td>1992</td>\n",
              "      <td>3437674</td>\n",
              "      <td>Oceania</td>\n",
              "      <td>76.330</td>\n",
              "      <td>18363.324940</td>\n",
              "      <td>Very High</td>\n",
              "    </tr>\n",
              "    <tr>\n",
              "      <th>1069</th>\n",
              "      <td>Nepal</td>\n",
              "      <td>1957</td>\n",
              "      <td>9682338</td>\n",
              "      <td>Asia</td>\n",
              "      <td>37.686</td>\n",
              "      <td>597.936356</td>\n",
              "      <td>Low</td>\n",
              "    </tr>\n",
              "    <tr>\n",
              "      <th>1581</th>\n",
              "      <td>Turkey</td>\n",
              "      <td>1997</td>\n",
              "      <td>63047647</td>\n",
              "      <td>Europe</td>\n",
              "      <td>68.835</td>\n",
              "      <td>6601.429915</td>\n",
              "      <td>Very High</td>\n",
              "    </tr>\n",
              "  </tbody>\n",
              "</table>\n",
              "</div>"
            ],
            "text/plain": [
              "               country  year  population continent  life_exp       gdp_cap  \\\n",
              "135            Bolivia  1967     4040665  Americas    45.032   2586.886053   \n",
              "812             Jordan  1992     3867409      Asia    68.015   3431.593647   \n",
              "1338            Serbia  1982     9032824    Europe    70.162  15181.092700   \n",
              "504           Ethiopia  1952    20860941    Africa    34.078    362.146280   \n",
              "467              Egypt  2007    80264543    Africa    71.338   5581.180998   \n",
              "349         Costa Rica  1957     1112300  Americas    60.026   2990.010802   \n",
              "325   Congo, Dem. Rep.  1957    15577932    Africa    40.652    905.860230   \n",
              "1100       New Zealand  1992     3437674   Oceania    76.330  18363.324940   \n",
              "1069             Nepal  1957     9682338      Asia    37.686    597.936356   \n",
              "1581            Turkey  1997    63047647    Europe    68.835   6601.429915   \n",
              "\n",
              "     Life_Exp_Range  \n",
              "135          Medium  \n",
              "812       Very High  \n",
              "1338      Very High  \n",
              "504             Low  \n",
              "467       Very High  \n",
              "349            High  \n",
              "325          Medium  \n",
              "1100      Very High  \n",
              "1069            Low  \n",
              "1581      Very High  "
            ]
          },
          "execution_count": 8,
          "metadata": {},
          "output_type": "execute_result"
        }
      ],
      "source": [
        "df['Life_Exp_Range'] = pd.cut(df['life_exp'], bins=4, labels=['Low', 'Medium', 'High', 'Very High'])\n",
        "df.sample(10)"
      ]
    },
    {
      "cell_type": "markdown",
      "id": "2ddf9b36",
      "metadata": {
        "id": "2ddf9b36"
      },
      "source": [
        "Q.5.Identify the top 5 countries with the highest GDP per capita in 2007. Use a horizontal bar chart to display this data."
      ]
    },
    {
      "cell_type": "code",
      "execution_count": null,
      "id": "6223b5d6",
      "metadata": {
        "id": "6223b5d6",
        "outputId": "d67b851c-dcd2-432a-914e-291948e7f4a4"
      },
      "outputs": [
        {
          "name": "stdout",
          "output_type": "stream",
          "text": [
            "            country      gdp_cap\n",
            "1151         Norway  49357.19017\n",
            "863          Kuwait  47306.98978\n",
            "1367      Singapore  47143.17964\n",
            "1619  United States  42951.65309\n",
            "755         Ireland  40675.99635\n"
          ]
        },
        {
          "data": {
            "image/png": "[encoded data removed]",
            "text/plain": [
              "<Figure size 640x480 with 1 Axes>"
            ]
          },
          "metadata": {},
          "output_type": "display_data"
        }
      ],
      "source": [
        "top_gdp_2007 = df[df['year'] == 2007].nlargest(5, 'gdp_cap')\n",
        "print(top_gdp_2007[['country', 'gdp_cap']])\n",
        "sns.barplot(x= 'gdp_cap', y= 'country', data= top_gdp_2007, orient= 'h')\n",
        "# plt.barh(top_gdp_2007['country'], top_gdp_2007['gdp_cap'])\n",
        "plt.xlabel('GDP_cap')\n",
        "plt.ylabel('Country')\n",
        "plt.title('Top 5 countries By GDP')\n",
        "plt.show()"
      ]
    },
    {
      "cell_type": "markdown",
      "id": "635675a3",
      "metadata": {
        "id": "635675a3"
      },
      "source": [
        "Q6.\tFind all country names that start with \"I\" and end with \"a\" using regex."
      ]
    },
    {
      "cell_type": "code",
      "execution_count": null,
      "id": "2031fffb",
      "metadata": {
        "id": "2031fffb",
        "outputId": "bbd5be8a-4865-429b-d6da-351c376b69e0"
      },
      "outputs": [
        {
          "name": "stdout",
          "output_type": "stream",
          "text": [
            "696        India\n",
            "697        India\n",
            "698        India\n",
            "699        India\n",
            "700        India\n",
            "701        India\n",
            "702        India\n",
            "703        India\n",
            "704        India\n",
            "705        India\n",
            "706        India\n",
            "707        India\n",
            "708    Indonesia\n",
            "709    Indonesia\n",
            "710    Indonesia\n",
            "711    Indonesia\n",
            "712    Indonesia\n",
            "713    Indonesia\n",
            "714    Indonesia\n",
            "715    Indonesia\n",
            "716    Indonesia\n",
            "717    Indonesia\n",
            "718    Indonesia\n",
            "719    Indonesia\n",
            "Name: country, dtype: object\n"
          ]
        }
      ],
      "source": [
        "import re\n",
        "\n",
        "pattern = re.compile(\"^I.*a$\")\n",
        "ia_countries = df[df['country'].str.contains(pattern)]['country']\n",
        "print(ia_countries)"
      ]
    },
    {
      "cell_type": "markdown",
      "id": "0cb5d0b6",
      "metadata": {
        "id": "0cb5d0b6"
      },
      "source": [
        "Q.7.\tCreate a boxplot using Seaborn to compare the distribution of GDP per capita for each continent in 2007"
      ]
    },
    {
      "cell_type": "code",
      "execution_count": null,
      "id": "9ed65606",
      "metadata": {
        "id": "9ed65606",
        "outputId": "44c615bd-d8db-4c20-c454-0bd49fc98400"
      },
      "outputs": [
        {
          "data": {
            "image/png": "[encoded data removed]",
            "text/plain": [
              "<Figure size 640x480 with 1 Axes>"
            ]
          },
          "metadata": {},
          "output_type": "display_data"
        }
      ],
      "source": [
        "sns.boxplot(x='continent', y='gdp_cap', data=df[df['year'] == 2007])\n",
        "plt.ylabel('GDP_cap')\n",
        "plt.xlabel('Country')\n",
        "plt.title('GDP by Continent- 2007')\n",
        "plt.show()"
      ]
    },
    {
      "cell_type": "markdown",
      "id": "8b8d7f94",
      "metadata": {
        "id": "8b8d7f94"
      },
      "source": [
        "Q.8.\tFind all countries with a life expectancy of over 80 years in 2007. List these countries and their respective continents."
      ]
    },
    {
      "cell_type": "code",
      "execution_count": null,
      "id": "b0b4bd07",
      "metadata": {
        "id": "b0b4bd07",
        "outputId": "1a7152fa-b3c7-4c6f-8d8b-3a7240a9a77c"
      },
      "outputs": [
        {
          "name": "stdout",
          "output_type": "stream",
          "text": [
            "               country continent\n",
            "71           Australia   Oceania\n",
            "251             Canada  Americas\n",
            "539             France    Europe\n",
            "671   Hong Kong, China      Asia\n",
            "695            Iceland    Europe\n",
            "767             Israel      Asia\n",
            "779              Italy    Europe\n",
            "803              Japan      Asia\n",
            "1103       New Zealand   Oceania\n",
            "1151            Norway    Europe\n",
            "1427             Spain    Europe\n",
            "1475            Sweden    Europe\n",
            "1487       Switzerland    Europe\n"
          ]
        }
      ],
      "source": [
        "high_life_exp_2007 = df[(df['year'] == 2007) & (df['life_exp'] > 80)]\n",
        "print(high_life_exp_2007[['country', 'continent']])\n"
      ]
    },
    {
      "cell_type": "markdown",
      "id": "a6b89a48",
      "metadata": {
        "id": "a6b89a48"
      },
      "source": [
        "Q.9.\tConvert the 'year' column to a datetime type and extract the decade. Create a new column 'Decade' that groups the years into decades (e.g., the 1950s, 1960s)."
      ]
    },
    {
      "cell_type": "code",
      "execution_count": null,
      "id": "52d9667b",
      "metadata": {
        "id": "52d9667b",
        "outputId": "fcfa017d-2f14-4e21-88df-06e3a78adc44"
      },
      "outputs": [
        {
          "name": "stdout",
          "output_type": "stream",
          "text": [
            "             country  life_exp Decade\n",
            "1631         Uruguay    76.384  2000s\n",
            "718        Indonesia    68.588  2000s\n",
            "1213     Philippines    51.334  1950s\n",
            "616           Guinea    38.842  1970s\n",
            "1698        Zimbabwe    60.363  1980s\n",
            "747          Ireland    71.080  1960s\n",
            "1603  United Kingdom    75.007  1980s\n",
            "563           Gambia    59.448  2000s\n",
            "1485     Switzerland    79.370  1990s\n",
            "386             Cuba    65.246  1960s\n"
          ]
        }
      ],
      "source": [
        "df['year'] = pd.to_datetime(df['year'], format='%Y')\n",
        "df['Decade'] = (df['year'].dt.year // 10 * 10).astype(str) + 's'\n",
        "print(df[['country', 'life_exp', 'Decade']].sample(10))"
      ]
    },
    {
      "cell_type": "markdown",
      "id": "7b5229ce",
      "metadata": {
        "id": "7b5229ce"
      },
      "source": [
        "Q.10.\tCompute the correlation matrix between GDP per capita, life expectancy, and population for the dataset. Then, use Seaborn to visualize this correlation matrix as a heatmap."
      ]
    },
    {
      "cell_type": "code",
      "execution_count": null,
      "id": "96a8559c",
      "metadata": {
        "id": "96a8559c",
        "outputId": "63010b9d-c51a-49ad-acd7-d4062ebe8649"
      },
      "outputs": [
        {
          "name": "stdout",
          "output_type": "stream",
          "text": [
            "             gdp_cap  life_exp  population\n",
            "gdp_cap     1.000000  0.583706   -0.025600\n",
            "life_exp    0.583706  1.000000    0.064955\n",
            "population -0.025600  0.064955    1.000000\n"
          ]
        },
        {
          "data": {
            "text/plain": [
              "<Axes: >"
            ]
          },
          "execution_count": 33,
          "metadata": {},
          "output_type": "execute_result"
        },
        {
          "data": {
            "image/png": "[encoded data removed]",
            "text/plain": [
              "<Figure size 640x480 with 2 Axes>"
            ]
          },
          "metadata": {},
          "output_type": "display_data"
        }
      ],
      "source": [
        "correlation_matrix = df[['gdp_cap', 'life_exp', 'population']].corr()\n",
        "print(correlation_matrix)\n",
        "sns.heatmap(correlation_matrix, annot=True)"
      ]
    },
    {
      "cell_type": "markdown",
      "id": "f1d7b617",
      "metadata": {
        "id": "f1d7b617"
      },
      "source": [
        "Q.11.\tHow has the global average life expectancy changed from 1952 to 2007? Plot a line graph to visualize this trend.\n",
        "Subjective Question: Discuss the various reasons that could have contributed to the change."
      ]
    },
    {
      "cell_type": "code",
      "execution_count": null,
      "id": "aedec8bf",
      "metadata": {
        "id": "aedec8bf",
        "outputId": "1e335d21-8f92-44d1-b70c-d5788ca32617"
      },
      "outputs": [
        {
          "data": {
            "image/png": "[encoded data removed]",
            "text/plain": [
              "<Figure size 640x480 with 1 Axes>"
            ]
          },
          "metadata": {},
          "output_type": "display_data"
        }
      ],
      "source": [
        "GALE=df.pivot_table(index='year',values='life_exp',aggfunc='mean').reset_index() #created pivot table to find year wise average life expectancy\n",
        "plt.figure()\n",
        "plt.plot(GALE['year'],GALE['life_exp'])\n",
        "plt.title('Trend of global average life expectancy')\n",
        "plt.xlabel('Year')\n",
        "plt.ylabel('Average life expectancy')\n",
        "plt.show()"
      ]
    },
    {
      "cell_type": "markdown",
      "source": [
        "Subjective Question: Discuss the various reasons that could have contributed to the change.\n",
        "\n",
        "The global average life expectancy has generally increased from 1952 to 2007. This increase can be attributed to several factors, including:\n",
        "\n",
        "Improvements in healthcare: Advancements in medical treatments, vaccines, and access to healthcare facilities have played a significant role in increasing life expectancy worldwide.\n",
        "Better nutrition: Improved food security, dietary diversity, and access to essential nutrients have contributed to better overall health and longer lifespans.\n",
        "Improved sanitation and hygiene: Better access to clean water, improved sanitation facilities, and increased awareness of hygiene practices have helped reduce the spread of infectious diseases and improve overall health.\n",
        "Economic development: Economic growth and increased income levels have enabled countries to invest more in healthcare infrastructure, education, and social welfare programs, which positively impact life expectancy.\n",
        "Reduced child mortality: Improved child healthcare, vaccination programs, and better maternal care have contributed to lower child mortality rates, leading to increased life expectancy.\n",
        "Advances in medical technology: Technological advancements in diagnostics, treatments, and medical equipment have enabled early detection and effective management of various diseases, prolonging life expectancy.\n",
        "Public health initiatives: Governments and international organizations have implemented various public health programs and policies aimed at promoting health education, disease prevention, and access to healthcare services, contributing to improved life expectancy.\n",
        "It's important to note that while the global average life expectancy has increased, there may be variations across different regions and countries due to factors such as poverty, conflicts, and access to resources."
      ],
      "metadata": {
        "id": "hlMwS4Ij3pRH"
      },
      "id": "hlMwS4Ij3pRH"
    },
    {
      "cell_type": "markdown",
      "id": "38972e6f",
      "metadata": {
        "id": "38972e6f"
      },
      "source": [
        "Q.12.\tFor the year 2007, analyze the relationship between life expectancy and GDP per capita.\n",
        "Subjective Question: Is there a noticeable trend or correlation? Represent this using a scatter plot"
      ]
    },
    {
      "cell_type": "code",
      "execution_count": null,
      "id": "59489c7c",
      "metadata": {
        "id": "59489c7c",
        "outputId": "32c9a094-9fc4-4671-c9c6-37dd2070f653"
      },
      "outputs": [
        {
          "data": {
            "image/png": "[encoded data removed]",
            "text/plain": [
              "<Figure size 1000x600 with 1 Axes>"
            ]
          },
          "metadata": {},
          "output_type": "display_data"
        }
      ],
      "source": [
        "# df_2007=df[df['year'].dt.year==2007].reset_index()\n",
        "# filter_data=df_2007[['life_exp','gdp_cap']]\n",
        "# correlation_matrix=filter_data.corr()\n",
        "# correlation_matrix\n",
        "\n",
        "# Filter the data for the year 2007\n",
        "df_2007 = df[df['year'] == 2007]\n",
        "\n",
        "# Create a scatter plot\n",
        "plt.figure(figsize=(10, 6))\n",
        "plt.scatter(df_2007['gdp_cap'], df_2007['life_exp'])\n",
        "plt.xlabel('GDP per capita')\n",
        "plt.ylabel('Life Expectancy')\n",
        "plt.title('Relationship between Life Expectancy and GDP per capita in 2007')\n",
        "plt.show()\n"
      ]
    },
    {
      "cell_type": "markdown",
      "source": [
        "Subjective Question: Is there a noticeable trend or correlation? Represent this using a scatter plot.\n",
        "\n",
        "From the scatter plot, we can observe a positive correlation between life expectancy and GDP per capita in 2007. Countries with higher GDP per capita tend to have higher life expectancy values, while countries with lower GDP per capita generally have lower life expectancy. This trend suggests that economic development and wealth play a crucial role in determining a country's overall health and longevity. Higher GDP per capita often translates to better access to healthcare, improved nutrition, better living conditions, and access to education, all of which contribute to increased life expectancy.\n",
        "\n",
        "13Q] Compare the average GDP per capita for each continent in the year 2000. Use a bar chart for this comparison."
      ],
      "metadata": {
        "id": "4vv0TwZ6345b"
      },
      "id": "4vv0TwZ6345b"
    },
    {
      "cell_type": "markdown",
      "id": "900add08",
      "metadata": {
        "id": "900add08"
      },
      "source": [
        "Q.13.\tCompare the average GDP per capita for each continent in the year 2000. Use a bar chart for this comparison.\n",
        "Subjective Question:  Why is the average GDP per capita for Oceania higher than the Americas even though the Americas have more countries?\n"
      ]
    },
    {
      "cell_type": "code",
      "execution_count": null,
      "id": "e52b1088",
      "metadata": {
        "id": "e52b1088",
        "outputId": "f8f0edac-9fb7-4726-a733-c4865a2f675a"
      },
      "outputs": [
        {
          "ename": "TypeError",
          "evalue": "bar() missing 1 required positional argument: 'height'",
          "output_type": "error",
          "traceback": [
            "\u001b[1;31m---------------------------------------------------------------------------\u001b[0m",
            "\u001b[1;31mTypeError\u001b[0m                                 Traceback (most recent call last)",
            "Cell \u001b[1;32mIn[18], line 4\u001b[0m\n\u001b[0;32m      2\u001b[0m pivot_table\u001b[38;5;241m=\u001b[39mdf_2007\u001b[38;5;241m.\u001b[39mpivot_table(index\u001b[38;5;241m=\u001b[39m\u001b[38;5;124m'\u001b[39m\u001b[38;5;124mcontinent\u001b[39m\u001b[38;5;124m'\u001b[39m,values\u001b[38;5;241m=\u001b[39m\u001b[38;5;124m'\u001b[39m\u001b[38;5;124mgdp_cap\u001b[39m\u001b[38;5;124m'\u001b[39m,aggfunc\u001b[38;5;241m=\u001b[39m\u001b[38;5;124m'\u001b[39m\u001b[38;5;124mmean\u001b[39m\u001b[38;5;124m'\u001b[39m)\u001b[38;5;241m.\u001b[39mreset_index()\n\u001b[0;32m      3\u001b[0m plt\u001b[38;5;241m.\u001b[39mfigure()\n\u001b[1;32m----> 4\u001b[0m plt\u001b[38;5;241m.\u001b[39mbar(x\u001b[38;5;241m=\u001b[39mpivot_table[\u001b[38;5;124m'\u001b[39m\u001b[38;5;124mcontinent\u001b[39m\u001b[38;5;124m'\u001b[39m])\n\u001b[0;32m      5\u001b[0m plt\u001b[38;5;241m.\u001b[39mtitle(\u001b[38;5;124m'\u001b[39m\u001b[38;5;124mContinent wise average GDP per capita distribution\u001b[39m\u001b[38;5;124m'\u001b[39m)\n\u001b[0;32m      6\u001b[0m plt\u001b[38;5;241m.\u001b[39mxlabel(\u001b[38;5;124m'\u001b[39m\u001b[38;5;124mContinent\u001b[39m\u001b[38;5;124m'\u001b[39m)\n",
            "\u001b[1;31mTypeError\u001b[0m: bar() missing 1 required positional argument: 'height'"
          ]
        },
        {
          "data": {
            "text/plain": [
              "<Figure size 640x480 with 0 Axes>"
            ]
          },
          "metadata": {},
          "output_type": "display_data"
        }
      ],
      "source": [
        "# Filter the data for the year 2000\n",
        "data_2000 = data[data['year'] == 2000]\n",
        "\n",
        "# Calculate the average GDP per capita for each continent\n",
        "avg_gdp_continent = data_2000.groupby('continent')['gdp_cap'].mean().reset_index()\n",
        "\n",
        "# Create a bar chart\n",
        "plt.figure(figsize=(10, 6))\n",
        "plt.bar(avg_gdp_continent['continent'], avg_gdp_continent['gdp_cap'])\n",
        "plt.xlabel('Continent')\n",
        "plt.ylabel('Average GDP per capita')\n",
        "plt.title('Average GDP per capita for each continent in 2000')\n",
        "plt.xticks(rotation=45)\n",
        "plt.show()"
      ]
    },
    {
      "cell_type": "markdown",
      "source": [
        "Subjective Question: Why is the average GDP per capita for Oceania higher than the Americas even though the Americas have more countries? The average GDP per capita for Oceania is higher than the Americas in 2000, even though the Americas have more countries. This can be attributed to the following reasons:\n",
        "\n",
        "Composition of countries: Oceania primarily consists of Australia and New Zealand, which are developed nations with high GDP per capita. On the other hand, the Americas include a diverse range of countries, including both developed and developing nations, resulting in a lower overall average GDP per capita.\n",
        "Resource-based economies: Countries in Oceania, particularly Australia, have strong resource-based economies, such as mining and energy exports, which contribute significantly to their GDP."
      ],
      "metadata": {
        "id": "nLZxHkfw4MmO"
      },
      "id": "nLZxHkfw4MmO"
    },
    {
      "cell_type": "markdown",
      "id": "7707b2a3",
      "metadata": {
        "id": "7707b2a3"
      },
      "source": [
        "Q.14.\tCompare the life expectancy and GDP per capita of Afghanistan (a country known for its historical conflicts) and Switzerland (representing a peaceful and economically prosperous country) using the dataset provided.\n",
        "-\tFirstly, for the year 2007, use a bar chart to directly compare the life expectancy and GDP per capita between these two countries.\n",
        "\n"
      ]
    },
    {
      "cell_type": "code",
      "execution_count": null,
      "id": "4a8b3347",
      "metadata": {
        "id": "4a8b3347"
      },
      "outputs": [],
      "source": [
        "# Filter the data for Afghanistan and Switzerland in 2007\n",
        "data_2007 = data[(data['year'] == 2007) & (data['country'].isin(['Afghanistan', 'Switzerland']))]\n",
        "\n",
        "# Create a bar chart\n",
        "plt.figure(figsize=(10, 6))\n",
        "data_2007 = data_2007.set_index('country')\n",
        "\n",
        "data_2007['life_exp'].plot(kind='bar')\n",
        "plt.ylabel('Life Expectancy')\n",
        "plt.title('Life Expectancy in 2007')\n",
        "plt.show()\n",
        "\n",
        "plt.figure(figsize=(10, 6))\n",
        "data_2007['gdp_cap'].plot(kind='bar')\n",
        "plt.ylabel('GDP per capita')\n",
        "plt.title('GDP per capita in 2007')\n",
        "plt.show()"
      ]
    },
    {
      "cell_type": "markdown",
      "source": [
        "Then, create two separate line graphs to show the trends of these two metrics over all available years in the dataset for both countries. Subjective Question: What differences do you observe in terms of life expectancy and economic development? How might the stability or instability of a country influence these key metrics over time? Analyze the data through these visualizations and discuss your inferences."
      ],
      "metadata": {
        "id": "Y2eKoteC4hLL"
      },
      "id": "Y2eKoteC4hLL"
    },
    {
      "cell_type": "code",
      "execution_count": null,
      "id": "e46022f2",
      "metadata": {
        "id": "e46022f2"
      },
      "outputs": [],
      "source": [
        "# Filter the data for Afghanistan and Switzerland\n",
        "afghanistan = data[data['country'] == 'Afghanistan']\n",
        "switzerland = data[data['country'] == 'Switzerland']\n",
        "\n",
        "# Create line graphs for life expectancy\n",
        "plt.figure(figsize=(10, 6))\n",
        "plt.plot(afghanistan['year'], afghanistan['life_exp'], label='Afghanistan')\n",
        "plt.plot(switzerland['year'], switzerland['life_exp'], label='Switzerland')\n",
        "plt.xlabel('Year')\n",
        "plt.ylabel('Life Expectancy')\n",
        "plt.title('Life Expectancy Trend')\n",
        "plt.legend()\n",
        "plt.show()\n",
        "\n",
        "# Create line graphs for GDP per capita\n",
        "plt.figure(figsize=(10, 6))\n",
        "plt.plot(afghanistan['year'], afghanistan['gdp_cap'], label='Afghanistan')\n",
        "plt.plot(switzerland['year'], switzerland['gdp_cap'], label='Switzerland')\n",
        "plt.xlabel('Year')\n",
        "plt.ylabel('GDP per capita')\n",
        "plt.title('GDP per capita Trend')\n",
        "plt.legend()\n",
        "plt.show()"
      ]
    },
    {
      "cell_type": "markdown",
      "source": [
        "Subjective Question: What differences do you observe in terms of life expectancy and economic development? How might the stability or instability of a country influence these key metrics over time? Analyze the data through these visualizations and discuss your inferences.\n",
        "\n",
        "From the visualizations, we can observe significant differences between Afghanistan and Switzerland in terms of life expectancy and economic development (GDP per capita):\n",
        "\n",
        "Life expectancy:\n",
        "\n",
        "Switzerland has consistently maintained a higher life expectancy compared to Afghanistan throughout the period covered in the dataset. Afghanistan's life expectancy has remained relatively low, showing only a gradual increase over time. This disparity in life expectancy can be attributed to factors such as access to healthcare, nutrition, sanitation, and overall living standards, which tend to be better in stable and economically prosperous countries like Switzerland.\n",
        "\n",
        "GDP per capita:\n",
        "\n",
        "Switzerland has enjoyed a significantly higher GDP per capita compared to Afghanistan, reflecting its advanced economy and high living standards. Afghanistan's GDP per capita has remained relatively low, indicating economic challenges and limited resources. The gap in GDP per capita between the two countries has been widening over time, suggesting that Switzerland's economic prosperity has continued to grow, while Afghanistan has faced persistent economic difficulties.\n",
        "\n",
        "The stability or instability of a country can greatly influence these key metrics over time:"
      ],
      "metadata": {
        "id": "oOREiZmH4xeo"
      },
      "id": "oOREiZmH4xeo"
    },
    {
      "cell_type": "markdown",
      "source": [
        "Stable countries like Switzerland benefit from consistent economic policies, political stability, and a secure environment, fostering sustained economic growth and investment in public health and social welfare systems. This contributes to higher life expectancy and GDP per capita.\n",
        "Instability, conflicts, and political turmoil, as experienced by Afghanistan, can disrupt economic activities, infrastructure development, and access to essential services like healthcare and education. This can lead to stagnation or decline in life expectancy and economic development.\n",
        "Stable countries often have well-established institutions, effective governance, and a strong rule of law, which attract foreign investment and promote economic growth, further enhancing living standards and life expectancy.\n",
        "Instability can also lead to brain drain, as skilled professionals and intellectuals may leave the country, hampering long-term development and progress."
      ],
      "metadata": {
        "id": "L62_OiPT46zK"
      },
      "id": "L62_OiPT46zK"
    },
    {
      "cell_type": "code",
      "source": [],
      "metadata": {
        "id": "t-upzCWB4_7Y"
      },
      "id": "t-upzCWB4_7Y",
      "execution_count": null,
      "outputs": []
    }
  ],
  "metadata": {
    "kernelspec": {
      "display_name": "Python 3 (ipykernel)",
      "language": "python",
      "name": "python3"
    },
    "language_info": {
      "codemirror_mode": {
        "name": "ipython",
        "version": 3
      },
      "file_extension": ".py",
      "mimetype": "text/x-python",
      "name": "python",
      "nbconvert_exporter": "python",
      "pygments_lexer": "ipython3",
      "version": "3.11.5"
    },
    "colab": {
      "provenance": []
    }
  },
  "nbformat": 4,
  "nbformat_minor": 5
}